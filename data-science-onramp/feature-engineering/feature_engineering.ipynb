{
 "cells": [
  {
   "cell_type": "code",
   "execution_count": null,
   "metadata": {
    "id": "04873838fdfe"
   },
   "outputs": [],
   "source": [
    "##########################################################\n",
    "###USED FOR INTERNAL TESTING - USERS MAY SKIP THIS CELL###\n",
    "##########################################################\n",
    "!pip install pyarrow\n",
    "from google.cloud import storage\n",
    "from google.cloud import bigquery\n",
    "from google.cloud.exceptions import NotFound\n",
    "\n",
    "# Internal testers - Fill in with your GCP Project ID and GCS Bucket Name\n",
    "PROJECT_ID = '[your-project-id]'\n",
    "BUCKET_NAME = '[your-bucket-name]'\n",
    "\n",
    "DATASET_NAME = 'new_york_citibike_trips'\n",
    "\n",
    "\n",
    "def upload_to_gcs(source_file, destination_blob, file_type):\n",
    "    '''Upload a file to GCS'''\n",
    "    storage_client = storage.Client()\n",
    "    bucket = storage_client.get_bucket(BUCKET_NAME)\n",
    "    blob = bucket.blob(destination_blob)\n",
    "    blob.upload_from_filename(source_file, file_type)\n",
    "\n",
    "\n",
    "def write_to_bq(table_name, data_uri, schema):\n",
    "    '''Write a table to BigQuery'''\n",
    "    bigquery_client = bigquery.Client()\n",
    "    dataset_ref = bigquery.DatasetReference(PROJECT_ID, DATASET_NAME)\n",
    "    job_config = bigquery.LoadJobConfig()\n",
    "    job_config.schema = schema\n",
    "    job_config.skip_leading_rows = 1\n",
    "    uri = data_uri\n",
    "    load_job = bigquery_client.load_table_from_uri(\n",
    "        uri, dataset_ref.table(table_name), job_config=job_config\n",
    "    )\n",
    "    load_job.result()  # Wait for table load to complete\n",
    "\n",
    "\n",
    "# Upload datasets to gcs\n",
    "upload_to_gcs('testing_data/clean_data.csv.gz', 'clean_data/citibike.csv.gz', 'application/octet-stream')\n",
    "upload_to_gcs('testing_data/holidays.csv', 'holidays.csv', 'text/csv')\n",
    "upload_to_gcs('testing_data/gasprices.csv', 'gasprices.csv', 'text/csv')\n",
    "\n",
    "# Create dataset\n",
    "bigquery_client = bigquery.Client()\n",
    "\n",
    "try:\n",
    "    dataset_ref = bigquery.dataset.DatasetReference(PROJECT_ID, DATASET_NAME)\n",
    "    bigquery_client.get_dataset(dataset_ref)\n",
    "except NotFound:\n",
    "    dataset_id = f'{PROJECT_ID}.{DATASET_NAME}'\n",
    "    dataset = bigquery.Dataset(dataset_id)\n",
    "    dataset.location = \"US\"\n",
    "    dataset = bigquery_client.create_dataset(dataset)\n",
    "\n",
    "# Write US Holidays table to BigQuery\n",
    "usholidays_uri = f'gs://{BUCKET_NAME}/usholidays.csv'\n",
    "usholidays_schema = [\n",
    "    bigquery.SchemaField(\"Date\", \"STRING\"),\n",
    "    bigquery.SchemaField(\"Holiday\", \"STRING\"),\n",
    "]\n",
    "write_to_bq('usholidays', usholidays_uri, usholidays_schema)\n",
    "\n",
    "# Write Gas Prices table to BigQuery\n",
    "gasprices_uri = f'gs://{BUCKET_NAME}/gasprices.csv'\n",
    "gasprices_schema = [\n",
    "    bigquery.SchemaField(\"Date\", \"STRING\"),\n",
    "    bigquery.SchemaField(\"New_York_State_Average_USD_per_Gal\", \"FLOAT\"),\n",
    "    bigquery.SchemaField(\"Albany_Average_USD_per_Gal\", \"FLOAT\"),\n",
    "    bigquery.SchemaField(\"Binghamton_Average_USD_per_Gal\", \"FLOAT\"),\n",
    "    bigquery.SchemaField(\"Buffalo_Average_USD_per_Gal\", \"FLOAT\"),\n",
    "    bigquery.SchemaField(\"Nassau_Average_USD_per_Gal\", \"FLOAT\"),\n",
    "    bigquery.SchemaField(\"New_York_City_Average_USD_per_Gal\", \"FLOAT\"),\n",
    "    bigquery.SchemaField(\"Rochester_Average_USD_per_Gal\", \"FLOAT\"),\n",
    "    bigquery.SchemaField(\"Syracuse_Average_USD_per_Gal\", \"FLOAT\"),\n",
    "    bigquery.SchemaField(\"Utica_Average_USD_per_Gal\", \"FLOAT\"),\n",
    "]\n",
    "write_to_bq('gas_prices', gasprices_uri, gasprices_schema)"
   ]
  },
  {
   "cell_type": "markdown",
   "metadata": {
    "id": "c4334fc33889"
   },
   "source": [
    "# Feature engineering with pandas and scikit-learn\n",
    "\n",
    "This notebook demonstrates how to use AI Platform notebooks to perform feature engineering on a dataset using Pandas.\n",
    "\n",
    "For each dataset, you will load the data into a Pandas DataFrame, clean and transform the columns into a usable format, and then restructure the data into feature and target data columns.\n",
    "\n",
    "Before you jump in, let's cover some of the different tools you'll be using:\n",
    "\n",
    "+ [AI Platform](https://cloud.google.com/ai-platform) consists of tools that allow machine learning developers and data scientists to run their ML projects quickly and cost-effectively.\n",
    "\n",
    "+ [Cloud Storage](https://cloud.google.com/storage/) is a unified object storage for developers and enterprises, from live data serving to data analytics/ML to data archiving.\n",
    "\n",
    "+ [BigQuery](https://cloud.google.com/bigquery) is a serverless, highly scalable, and cost-effective multi-cloud data warehouse.\n",
    "\n",
    "+ [Pandas](https://pandas.pydata.org/) is a data analysis and manipulation tool built on top of the Python programming language.\n",
    "\n",
    "+ [Scikit-Learn](https://scikit-learn.org/stable/) is a machine learning and data analysis tool for the Python programming language that provides simple and efficient tools to analyze or predict data."
   ]
  },
  {
   "cell_type": "markdown",
   "metadata": {
    "id": "c46e81504520"
   },
   "source": [
    "# Citibike Dataset\n",
    "\n",
    "First, you will perform feature engineering on the [Citibike dataset](https://console.cloud.google.com/bigquery?p=bigquery-public-data&d=new_york_citibike&t=citibike_trips). This includes cleaning the data, extracting the necessary features, and transforming the data into feature columns.\n",
    "\n",
    "## Load the data\n",
    "\n",
    "### Import libraries\n",
    "Running the following cell will import the libraries needed to preprocess the Citibike dataset.\n",
    "\n",
    "+ **Pandas**: to store and manipulate the dataset\n",
    "+ **Google Cloud Storage**: to retrieve the dataset from the GCS bucket where the dataset is stored\n",
    "+ **os**: to retrieve environment variables"
   ]
  },
  {
   "cell_type": "code",
   "execution_count": null,
   "metadata": {
    "id": "b43704585974"
   },
   "outputs": [],
   "source": [
    "import os\n",
    "import pandas as pd\n",
    "\n",
    "from google.cloud import storage"
   ]
  },
  {
   "cell_type": "markdown",
   "metadata": {
    "id": "a3d396d4caec"
   },
   "source": [
    "### Define constants\n",
    "Define the name of your Google Cloud Storage bucket where the cleaned data is stored.\n",
    "\n",
    "+ `PROJECT_ID`: unique identifier for your project\n",
    "+ `BUCKET_NAME`: name of the bucket where the cleaned dataset is stored\n",
    "+ `BLOB_PREFIX`: folder where the files are stored"
   ]
  },
  {
   "cell_type": "code",
   "execution_count": null,
   "metadata": {
    "id": "3a97ea657df9"
   },
   "outputs": [],
   "source": [
    "PROJECT_ID = os.getenv('PROJECT_ID', '[your-project-id]')\n",
    "BUCKET_NAME = os.getenv('BUCKET_NAME', '[your-bucket-name]')\n",
    "BLOB_PREFIX = 'clean_data/'"
   ]
  },
  {
   "cell_type": "markdown",
   "metadata": {
    "id": "215bb51aad14"
   },
   "source": [
    "### List the files"
   ]
  },
  {
   "cell_type": "markdown",
   "metadata": {
    "id": "4ef6e8caac54"
   },
   "source": [
    "Since the data cleaning job outputted multiple partioned files into the GCS bucket, you will need to loop through each file to access its contents. The following cell will create a list of the files with the `BLOB_PREFIX` defined above so they can be referenced later when loading the data into a dataframe."
   ]
  },
  {
   "cell_type": "code",
   "execution_count": null,
   "metadata": {
    "id": "19867b32feb6"
   },
   "outputs": [],
   "source": [
    "# Create storage client\n",
    "storage_client = storage.Client()\n",
    "\n",
    "# List files in the bucket with the specified prefix\n",
    "blobs = storage_client.list_blobs(BUCKET_NAME, prefix=BLOB_PREFIX)"
   ]
  },
  {
   "cell_type": "markdown",
   "metadata": {
    "id": "be9de9265b10"
   },
   "source": [
    "### Load the files into a dataframe\n",
    "\n",
    "Now, you can load the files into a dataframe.\n",
    "\n",
    "First, define the schema. From this dataset, you will need 4 columns:\n",
    "\n",
    "+ **starttime**: to extract the day of the week and date of when the trip starts\n",
    "+ **stoptime**: to extract the day of the week and date of when the trip has ended\n",
    "+ **start_station_id**: to find out how many trips started at a station\n",
    "+ **end_station_id**: to find out how many trips ended at a station"
   ]
  },
  {
   "cell_type": "code",
   "execution_count": null,
   "metadata": {
    "id": "9cdb8404b46d"
   },
   "outputs": [],
   "source": [
    "COLUMNS = (\n",
    "    'starttime',\n",
    "    'stoptime',\n",
    "    'start_station_id',\n",
    "    'end_station_id',\n",
    ")"
   ]
  },
  {
   "attachments": {
    "image.png": {
     "image/png": "[encoded data removed]"
    }
   },
   "cell_type": "markdown",
   "metadata": {
    "id": "eac33ca0edc6"
   },
   "source": [
    "Next, run the following cell to loop through the files in GCS, create a Pandas DataFrame, and view the first ten rows. The columns needed are the 1st, 2nd, 3rd, and 7th columns from left to right (starting with 0 at **tripduration**) when looking at the table in BigQuery.\n",
    "\n",
    "![image.png](attachment:image.png)"
   ]
  },
  {
   "cell_type": "code",
   "execution_count": null,
   "metadata": {
    "id": "bf436b427fde"
   },
   "outputs": [],
   "source": [
    "# Create empty dataframe\n",
    "citibike_data = pd.DataFrame()\n",
    "\n",
    "# For each file: load the contents into a dataframe\n",
    "# and concatenate the new dataframe with the existing\n",
    "for blob in blobs:\n",
    "    print(\"blob\" + str(blob.name))\n",
    "    filename = f'gs://{BUCKET_NAME}/{blob.name}'\n",
    "    new_df = pd.read_csv(filename, compression='gzip', usecols=[1, 2, 3, 7], header=None,\n",
    "                         names=COLUMNS, low_memory=False)\n",
    "    citibike_data = pd.concat([citibike_data, new_df])\n",
    "\n",
    "citibike_data.head(10)"
   ]
  },
  {
   "cell_type": "markdown",
   "metadata": {
    "id": "dae1b2402e9e"
   },
   "source": [
    "## Extract features\n",
    "\n",
    "### Reformat the data\n",
    "The following cell will modify the dataset in a few ways:\n",
    "\n",
    "+ Any rows with NaN values will be dropped\n",
    "+ The station IDs will be converted from floats to integers\n",
    "+ The times from the start time column will be removed since they are not needed"
   ]
  },
  {
   "cell_type": "code",
   "execution_count": null,
   "metadata": {
    "id": "a8c5b4f6847c"
   },
   "outputs": [],
   "source": [
    "# Drop rows with NaN values\n",
    "citibike_data = citibike_data.dropna()\n",
    "\n",
    "# Convert station IDs to integers\n",
    "citibike_data['start_station_id'] = citibike_data['start_station_id'].astype('int32')\n",
    "citibike_data['end_station_id'] = citibike_data['end_station_id'].astype('int32')\n",
    "\n",
    "# Remove time from the time columns\n",
    "citibike_data['starttime'] = citibike_data['starttime'].apply(lambda t: t.split(\"T\")[0])\n",
    "citibike_data['stoptime'] = citibike_data['stoptime'].apply(lambda t: t.split(\"T\")[0])\n",
    "\n",
    "citibike_data.head(10)"
   ]
  },
  {
   "cell_type": "markdown",
   "metadata": {
    "id": "06870af5f83c"
   },
   "source": [
    "### Count trips starting from a station\n",
    "\n",
    "Next, count the number of trips that have been started from each station per day. The `groupby` function from Pandas will count the number of unique combinations of the start time and start station ID values. Then, the `pivot` function from Pandas can be used to convert the station IDs into columns (since they are the target data) and the counts as the values.\n",
    "\n",
    "Also, use the `add_prefix` function to rename the columns and distinguish that the values indicate trips that have started from the station."
   ]
  },
  {
   "cell_type": "code",
   "execution_count": null,
   "metadata": {
    "id": "b79bf3a67d6e"
   },
   "outputs": [],
   "source": [
    "# Find unique combinations of start time and start station ID values\n",
    "trips_started = (citibike_data.groupby(['starttime', 'start_station_id'])\n",
    "                              .size().reset_index().rename(columns={0: 'count'}))\n",
    "\n",
    "# Pivot to make station ID the columns and rename them\n",
    "trips_started = (trips_started.pivot(index='starttime', columns='start_station_id', values='count')\n",
    "                              .add_prefix('started_at_'))\n",
    "trips_started.head(10)"
   ]
  },
  {
   "cell_type": "markdown",
   "metadata": {
    "id": "4bd2d7b8136d"
   },
   "source": [
    "### Count trips ending at a station\n",
    "\n",
    "Running the following cell will repeat the same process as above, but will generate values for the number of trips that have ended at the station."
   ]
  },
  {
   "cell_type": "code",
   "execution_count": null,
   "metadata": {
    "id": "57296a81da6d"
   },
   "outputs": [],
   "source": [
    "# Find unique combinations of stop time and end station ID values\n",
    "trips_ended = (citibike_data.groupby(['stoptime', 'end_station_id'])\n",
    "                            .size().reset_index().rename(columns={0: 'count'}))\n",
    "\n",
    "# Pivot to make station ID the columns and rename them\n",
    "trips_ended = (trips_ended.pivot(index='stoptime', columns='end_station_id', values='count')\n",
    "                          .add_prefix('ending_at_'))\n",
    "\n",
    "trips_ended.head(10)"
   ]
  },
  {
   "cell_type": "markdown",
   "metadata": {
    "id": "3355580b392d"
   },
   "source": [
    "## Putting it together\n",
    "\n",
    "The following cell will combine both dataframes for trips started and ended at the stations. Then, all NaN values will be replaced with a 0 since this indicates that no trips started or ended at that particular station. Lastly, the dataset will be cleaned up by renaming the columns and converting the values to integers."
   ]
  },
  {
   "cell_type": "code",
   "execution_count": null,
   "metadata": {
    "id": "5c82c523b100"
   },
   "outputs": [],
   "source": [
    "# Combine the dataframes\n",
    "# Set the index as row number instead of start time\n",
    "# Fill the NaN values with 0's\n",
    "citibike_df = (pd.concat([trips_started, trips_ended], axis=1)\n",
    "               .reset_index()\n",
    "               .fillna(0))\n",
    "\n",
    "# Rename the column with start and end dates\n",
    "citibike_df.rename(columns={'index': 'date'}, inplace=True)\n",
    "\n",
    "# Convert all values to integers\n",
    "for col in citibike_df.columns:\n",
    "    if col == 'date':\n",
    "        continue\n",
    "    citibike_df[col] = citibike_df[col].astype(int)\n",
    "\n",
    "citibike_df.head(10)"
   ]
  },
  {
   "cell_type": "markdown",
   "metadata": {
    "id": "7f154f540d7b"
   },
   "source": [
    "You are done with feature engineering for the Citibike Dataset! Now, you can move on to the external datasets you ingested in BigQuery to obtain more features, starting with **Gas Prices**."
   ]
  },
  {
   "cell_type": "markdown",
   "metadata": {
    "id": "7f814c1f3c88"
   },
   "source": [
    "# Gas Prices Dataset\n",
    "\n",
    "Now, perform feature engineering on the [Gas Prices dataset](https://data.ny.gov/Energy-Environment/Gasoline-Prices/wuxr-ni2i). This includes cleaning the data, normalizing the price values, and transforming the data to match the Citibike dataset.\n",
    "\n",
    "## Load the data\n",
    "\n",
    "### Import libraries\n",
    "Running the following cell will import the libraries needed to preprocess the external datasets.\n",
    "\n",
    "+ **Datetime**: to manipulate the date column\n",
    "+ **BigQuery**: to retrieve the datasets from BigQuery\n",
    "+ **scikit-learn**: to normalize the numerical column values"
   ]
  },
  {
   "cell_type": "code",
   "execution_count": null,
   "metadata": {
    "id": "509b119e621d"
   },
   "outputs": [],
   "source": [
    "import datetime\n",
    "\n",
    "from google.cloud import bigquery\n",
    "from sklearn import preprocessing"
   ]
  },
  {
   "cell_type": "markdown",
   "metadata": {
    "id": "e2317a0c256a"
   },
   "source": [
    "### Load the data from BigQuery into a dataframe\n",
    "\n",
    "Run the following cell to load the Gas Prices dataset from BigQuery into a dataframe. You will define a query that selects the columns needed from the gas prices dataset, run the query using the BigQuery client, and then convert it to a Pandas DataFrame.\n",
    "\n",
    "If you named your dataset something other than `new_york_citibike_trips`, be sure to update the `DATASET_NAME` variable.\n"
   ]
  },
  {
   "cell_type": "code",
   "execution_count": null,
   "metadata": {
    "id": "6b973dd85bb5"
   },
   "outputs": [],
   "source": [
    "LOCATION = 'US'\n",
    "DATASET_NAME = 'new_york_citibike_trips'\n",
    "\n",
    "# Create the BigQuery client\n",
    "bigquery_client = bigquery.Client(location=LOCATION)\n",
    "\n",
    "# Define the query\n",
    "table = f'{PROJECT_ID}.{DATASET_NAME}.gas_prices'\n",
    "query = f' SELECT Date as date, New_York_City_Average_USD_per_Gal as nyc_gas_price FROM {table}'\n",
    "\n",
    "# Run the query\n",
    "query_job = bigquery_client.query(\n",
    "    query,\n",
    "    location=LOCATION\n",
    ")\n",
    "\n",
    "# Convert to a dataframe\n",
    "gas_df = query_job.to_dataframe()\n",
    "\n",
    "gas_df.head(10)"
   ]
  },
  {
   "cell_type": "markdown",
   "metadata": {
    "id": "edf8d8b73013"
   },
   "source": [
    "## Normalize values\n",
    "\n",
    "The gas price values range from around 2 USD to 5 USD. It is important to normalize these values and scale them to be between 0 and 1 so that all the values within our dataset are weighted consistently. Running the following cell will create a scaler using the MinMaxScaler from scikit-learn and then fit the gas prices to the scaler."
   ]
  },
  {
   "cell_type": "code",
   "execution_count": null,
   "metadata": {
    "id": "dbf731dd7471"
   },
   "outputs": [],
   "source": [
    "# Extract gas prices column as a numpy array\n",
    "gas_values = gas_df[['nyc_gas_price']].values\n",
    "\n",
    "# Create scaler from sklearn\n",
    "min_max_scaler = preprocessing.MinMaxScaler()\n",
    "\n",
    "# Fit values to the scaler and replace column with normalized values\n",
    "gas_values_scaled = min_max_scaler.fit_transform(gas_values)\n",
    "gas_df['nyc_gas_price'] = gas_values_scaled\n",
    "\n",
    "gas_df.head(10)"
   ]
  },
  {
   "cell_type": "markdown",
   "metadata": {
    "id": "783e842b95ad"
   },
   "source": [
    "## Copy prices for the week\n",
    "\n",
    "The Citibike dataset contains pricing values for each day, however, the Gas Prices dataset contains one value per week. To get daily pricing values, you can assign a week's pricing value to each day of that particular week.\n",
    "\n",
    "First, run the following cell to refactor the date so it matches the format of a datetime object."
   ]
  },
  {
   "cell_type": "code",
   "execution_count": null,
   "metadata": {
    "id": "f87efa907994"
   },
   "outputs": [],
   "source": [
    "def refactor_date(date):\n",
    "    '''Refactor the date strings so they match the Citibike dataset'''\n",
    "    parts = date.split('/')\n",
    "    return f'{parts[2]}-{parts[0]}-{parts[1]}'\n",
    "\n",
    "\n",
    "gas_df['date'] = gas_df['date'].apply(lambda d: refactor_date(d))\n",
    "gas_df.head(10)"
   ]
  },
  {
   "cell_type": "markdown",
   "metadata": {
    "id": "aa009d4968d6"
   },
   "source": [
    "Now, copy the gas price of one day for the whole week by adding new rows to the dataframe.\n",
    "\n",
    "The following cell does this by applying a function to each row in the dataframe that:\n",
    "+ Converts each date to a datetime object\n",
    "+ Loops through the next six days to create new rows\n",
    "+ Appends the new rows to a list"
   ]
  },
  {
   "cell_type": "code",
   "execution_count": null,
   "metadata": {
    "id": "1a543016f32c"
   },
   "outputs": [],
   "source": [
    "# Define list to hold new rows\n",
    "new_rows = []\n",
    "\n",
    "\n",
    "def copy_values_for_week(row):\n",
    "    '''Copies gas price of one day for the entire week '''\n",
    "    today = datetime.datetime.strptime(row['date'], '%Y-%m-%d')\n",
    "    # Loop through the next six days\n",
    "    for day in range(1, 7):\n",
    "        # Create and a new row for the next day\n",
    "        new_day = datetime.datetime.strftime(today + datetime.timedelta(days=day), '%Y-%m-%d')\n",
    "        new_row = {'date': new_day, 'nyc_gas_price': row['nyc_gas_price']}\n",
    "        new_rows.append(new_row)\n",
    "\n",
    "\n",
    "# Apply copy function to dataframe\n",
    "gas_df.apply(copy_values_for_week, axis=1)\n",
    "\n",
    "# Add new rows to dataframe\n",
    "gas_df = gas_df.append(new_rows)\n",
    "\n",
    "gas_df"
   ]
  },
  {
   "cell_type": "markdown",
   "metadata": {
    "id": "04151f1b90f2"
   },
   "source": [
    "You have now finished transforming the Gas Prices dataset! Now you can move on to the next external dataset: **US Holidays**.\n",
    "\n",
    "# US Holidays Dataset\n",
    "\n",
    "## Load the data\n",
    "\n",
    "Run the following cell to load the [US Holidays dataset](https://github.com/GoogleCloudPlatform/python-docs-samples/blob/master/data-science-onramp/data-ingestion/holidays.csv) from BigQuery into a dataframe. Similarly to loading the Gas Prices dataset, this query selects the columns needed, runs the query using the BigQuery client, and converts the job to a dataframe."
   ]
  },
  {
   "cell_type": "code",
   "execution_count": null,
   "metadata": {
    "id": "141d4eb20bae"
   },
   "outputs": [],
   "source": [
    "# Define the query\n",
    "table = f'{PROJECT_ID}.{DATASET_NAME}.usholidays'\n",
    "query = f' SELECT Date as date, Holiday as holiday FROM {table}'\n",
    "\n",
    "# Run the query\n",
    "query_job = bigquery_client.query(\n",
    "    query,\n",
    "    location=LOCATION,\n",
    ")\n",
    "\n",
    "# Convert to a dataframe\n",
    "holiday_df = query_job.to_dataframe()\n",
    "\n",
    "holiday_df"
   ]
  },
  {
   "cell_type": "markdown",
   "metadata": {
    "id": "d775e54a91bf"
   },
   "source": [
    "## Transform the holiday column\n",
    "\n",
    "The purpose of the holiday feature column is to represent a binary value for whether there is a holiday on a specific day or not, rather than the type of holiday. Since this dataset contains only days with holidays, run the following cell to convert the holiday values to 1 (referring to `True`). Later, when combining the datasets, you will add values of 0 (referring to `False`) to dates that are present in the other datasets but not this one."
   ]
  },
  {
   "cell_type": "code",
   "execution_count": null,
   "metadata": {
    "id": "94a1dbd0c7a4"
   },
   "outputs": [],
   "source": [
    "holiday_df['holiday'] = holiday_df['holiday'].apply(lambda h: 1)\n",
    "holiday_df.head(10)"
   ]
  },
  {
   "cell_type": "markdown",
   "metadata": {
    "id": "dc80e1791a39"
   },
   "source": [
    "You have now finished transforming the US Holidays dataset! Now you can move on to the next external dataset: **Weather**.\n",
    "\n",
    "# Weather Dataset\n",
    "\n",
    "## Load the data\n",
    "\n",
    "Run the following cell to load the [Weather dataset](https://console.cloud.google.com/bigquery?p=bigquery-public-data&d=ghcn_d&page=dataset) from BigQuery into a dataframe. For each year needed, you will:\n",
    "\n",
    "+ Define a query that selects the required columns (whether there was impactful weather that day, precipitation (mm), minimum temperature, maximum temperature)\n",
    "+ Run the query using the BigQuery client\n",
    "+ Convert the job to a dataframe\n",
    "+ Concatenate it with the combined dataframe"
   ]
  },
  {
   "cell_type": "code",
   "execution_count": null,
   "metadata": {
    "id": "546da09f66c8"
   },
   "outputs": [],
   "source": [
    "# Initialize combined weather dataframe\n",
    "weather_df = pd.DataFrame()\n",
    "\n",
    "years = ['2013', '2014', '2015', '2016', '2017', '2018']\n",
    "for year in years:\n",
    "    # Define a query\n",
    "    query = f''' SELECT\n",
    "              date,\n",
    "              IF(MAX(haswx) = 'True', 'True', 'False') AS impactful,\n",
    "              MAX(prcp) AS prcp,\n",
    "              MAX(tmin) AS min_temp,\n",
    "              MAX(tmax) AS max_temp\n",
    "             FROM (\n",
    "              SELECT\n",
    "                wx.date,\n",
    "                IF (SUBSTR(wx.element, 0, 2) = 'WT', 'True', NULL) AS haswx,\n",
    "                IF (wx.element = 'PRCP', wx.value/10, NULL) AS prcp,\n",
    "                IF (wx.element = 'TMIN', wx.value/10, NULL) AS tmin,\n",
    "                IF (wx.element = 'TMAX', wx.value/10, NULL) AS tmax\n",
    "              FROM\n",
    "                `bigquery-public-data.ghcn_d.ghcnd_{year}` AS wx\n",
    "              WHERE\n",
    "                id = 'USW00094728')\n",
    "             GROUP BY\n",
    "              date\n",
    "             ORDER BY\n",
    "              date'''\n",
    "\n",
    "    # Run the query\n",
    "    query_job = bigquery_client.query(\n",
    "        query,\n",
    "        location=LOCATION\n",
    "    )\n",
    "\n",
    "    # Convert to a dataframe\n",
    "    curr_df = query_job.to_dataframe()\n",
    "\n",
    "    # Concatenate with combined dataframe\n",
    "    weather_df = pd.concat([weather_df, curr_df])\n",
    "\n",
    "weather_df.head(10)"
   ]
  },
  {
   "cell_type": "markdown",
   "metadata": {
    "id": "709dbed8ff80"
   },
   "source": [
    "## Normalize Values\n",
    "\n",
    "Similarly to the gas price values, the precipitation and temperature values must be normalized so all the values within the dataset are weighted consistently."
   ]
  },
  {
   "cell_type": "code",
   "execution_count": null,
   "metadata": {
    "id": "30bef4a3767a"
   },
   "outputs": [],
   "source": [
    "cols_to_normalize = ['prcp', 'min_temp', 'max_temp']\n",
    "\n",
    "for col_name in cols_to_normalize:\n",
    "    # Extract values\n",
    "    temp_values = weather_df[[col_name]].values\n",
    "\n",
    "    # Fit values to the scaler and replace column with normalized values\n",
    "    temp_values_scaled = min_max_scaler.fit_transform(temp_values)\n",
    "    weather_df[col_name] = temp_values_scaled\n",
    "\n",
    "weather_df.head(10)"
   ]
  },
  {
   "cell_type": "markdown",
   "metadata": {
    "id": "7adf58b4e0a9"
   },
   "source": [
    "## Convert column data types\n",
    "\n",
    "### Date column\n",
    "\n",
    "Run the following cell to change the datatype of the date column from a Datetime object to a string, so that it can be properly combined with the other datasets."
   ]
  },
  {
   "cell_type": "code",
   "execution_count": null,
   "metadata": {
    "id": "89614c9a770c"
   },
   "outputs": [],
   "source": [
    "weather_df['date'] = weather_df['date'].apply(lambda d: datetime.datetime.strftime(d, '%Y-%m-%d'))\n",
    "weather_df.head(10)"
   ]
  },
  {
   "cell_type": "markdown",
   "metadata": {
    "id": "a8ed17fc38a5"
   },
   "source": [
    "### Impactful column\n",
    "\n",
    "Run the following cell to encode the `True` and `False` column values to 0 or 1 so that they can be correctly interpreted by the machine learning model."
   ]
  },
  {
   "cell_type": "code",
   "execution_count": null,
   "metadata": {
    "id": "cc79d2dfc43c"
   },
   "outputs": [],
   "source": [
    "weather_df['impactful'] = weather_df['impactful'].apply(lambda impact: 1 if impact == \"True\" else 0)\n",
    "weather_df.head(10)"
   ]
  },
  {
   "cell_type": "markdown",
   "metadata": {
    "id": "36e7a484dffb"
   },
   "source": [
    "# Combine the datasets\n",
    "\n",
    "Now that all of the datasets have been transformed, combine them to create one table. The Pandas [`merge`](https://pandas.pydata.org/pandas-docs/stable/reference/api/pandas.DataFrame.merge.html) function can only combine two datasets at a time, so each dataset will be merged separetely.\n",
    "\n",
    "+ **Citibike Trips** and **Gas Prices**: merge on the date column by specifying `on=\"date\"` to create a *combined dataframe*\n",
    "+ *Combined dataframe* and **US Holidays**: merge both datasets on the date column, keep the dates of the combined dataframe by specifying `how='right'`, and fill the empty rows with `False`\n",
    "+ *Combined dataframe* and **Weather**: merge on the date column by specifying `on=\"date\"` to create the *final dataframe*"
   ]
  },
  {
   "cell_type": "code",
   "execution_count": null,
   "metadata": {
    "id": "16622436f940"
   },
   "outputs": [],
   "source": [
    "# Merge both gas dataset with citibike dataset\n",
    "final_df = pd.merge(gas_df, citibike_df, on=\"date\")\n",
    "\n",
    "# Merge combined dataset with holiday dataset\n",
    "final_df = pd.merge(holiday_df, final_df, how=\"right\", on=\"date\").fillna(0)\n",
    "\n",
    "# Merge combined dataset with weather dataset\n",
    "final_df = pd.merge(weather_df, final_df, on=\"date\")\n",
    "\n",
    "final_df"
   ]
  },
  {
   "cell_type": "markdown",
   "metadata": {
    "id": "db9af759b676"
   },
   "source": [
    "# Improve the date feature\n",
    "\n",
    "Now that all the datasets have been combined, you can separate the date column into more features such as the year, month, and day. Then, the date column can be dropped."
   ]
  },
  {
   "cell_type": "code",
   "execution_count": null,
   "metadata": {
    "id": "e8ca63a77d2e"
   },
   "outputs": [],
   "source": [
    "# Define the name and year, month, and day columns\n",
    "date_columns = final_df['date'].str.split('-', expand=True)\n",
    "date_names = ['year', 'month', 'day']\n",
    "\n",
    "# Add the columns at the start of the dataset\n",
    "for i in range(3):\n",
    "    final_df.insert(0, date_names[i], date_columns[i])\n",
    "    final_df[date_names[i]] = final_df[date_names[i]].astype('int32')\n",
    "\n",
    "# Remove the date column from the dataframe\n",
    "final_df = final_df.drop('date', axis=1)\n",
    "\n",
    "final_df.head(10)"
   ]
  },
  {
   "cell_type": "markdown",
   "metadata": {
    "id": "21094f12210a"
   },
   "source": [
    "The following cell will extract the day of the week from the date information using the Datetime python library."
   ]
  },
  {
   "cell_type": "code",
   "execution_count": null,
   "metadata": {
    "id": "add505986176"
   },
   "outputs": [],
   "source": [
    "def find_weekday(df):\n",
    "    ''' Creates a datetime object and returns the day of the week '''\n",
    "    date = datetime.datetime(int(df['year']), int(df['month']), int(df['day']))\n",
    "    return date.weekday()\n",
    "\n",
    "\n",
    "# Apply the find_weekday() function to every row of the dataset\n",
    "weekday_col = final_df.apply(find_weekday, axis=1)\n",
    "\n",
    "# Insert the weekday column at the start\n",
    "final_df.insert(0, 'weekday', weekday_col)\n",
    "\n",
    "final_df"
   ]
  },
  {
   "cell_type": "markdown",
   "metadata": {
    "id": "af03a0bf5ea7"
   },
   "source": [
    "# Upload the data to a GCS bucket\n",
    "\n",
    "Now that you have finished feature engineering on all of the datasets, you will need to upload the data to a bucket so that it can be accessed later when training a model. Run the following cell to upload the final dataframe to the GCS bucket you specified earlier."
   ]
  },
  {
   "cell_type": "code",
   "execution_count": null,
   "metadata": {
    "id": "be82eb960daa"
   },
   "outputs": [],
   "source": [
    "# Get bucket using storage client\n",
    "bucket = storage_client.get_bucket(BUCKET_NAME)\n",
    "\n",
    "# Upload the final dataframe as a csv file to the bucket\n",
    "bucket.blob('feature_engineering/final_data.csv').upload_from_string(final_df.to_csv(), 'text/csv')"
   ]
  },
  {
   "cell_type": "markdown",
   "metadata": {
    "id": "07502ae59aa2"
   },
   "source": [
    "You have now finished feature engineering on all of the datasets! Model training is next."
   ]
  },
  {
   "cell_type": "code",
   "execution_count": null,
   "metadata": {
    "id": "30934f734a13"
   },
   "outputs": [],
   "source": [
    "###################################################################\n",
    "###USED FOR INTERNAL TESTING TEARDOWN - USERS MAY SKIP THIS CELL###\n",
    "###################################################################\n",
    "\n",
    "\n",
    "def delete_blob_in_gcs(blob_name):\n",
    "    '''Delete a blob in GCS'''\n",
    "    blob = bucket.blob(blob_name)\n",
    "    blob.delete()\n",
    "\n",
    "\n",
    "# Delete blob from GCS\n",
    "delete_blob_in_gcs('clean_data/citibike.csv.gz')\n",
    "delete_blob_in_gcs('holidays.csv')\n",
    "delete_blob_in_gcs('gasprices.csv')\n",
    "\n",
    "\n",
    "# Delete dataset from BigQuery\n",
    "\n",
    "bigquery_client.delete_dataset(\n",
    "    f'{PROJECT_ID}.{DATASET_NAME}', delete_contents=True, not_found_ok=True\n",
    ")"
   ]
  }
 ],
 "metadata": {
  "colab": {
   "name": "feature_engineering.ipynb",
   "toc_visible": true
  },
  "environment": {
   "name": "tf2-gpu.2-3.mnightly-2021-02-12-debian-10-test",
   "type": "gcloud",
   "uri": "gcr.io/deeplearning-platform-release/tf2-gpu.2-3:mnightly-2021-02-12-debian-10-test"
  },
  "kernelspec": {
   "display_name": "Python 3",
   "language": "python",
   "name": "python3"
  },
  "language_info": {
   "codemirror_mode": {
    "name": "ipython",
    "version": 3
   },
   "file_extension": ".py",
   "mimetype": "text/x-python",
   "name": "python",
   "nbconvert_exporter": "python",
   "pygments_lexer": "ipython3",
   "version": "3.7.9"
  }
 },
 "nbformat": 4,
 "nbformat_minor": 4
}
